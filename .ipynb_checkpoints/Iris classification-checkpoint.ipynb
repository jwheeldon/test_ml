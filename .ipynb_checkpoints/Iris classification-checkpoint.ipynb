{
 "cells": [
  {
   "cell_type": "markdown",
   "metadata": {},
   "source": [
    "# Iris classification\n",
    "https://github.com/jwheeldon/test_ml.git\n",
    "\n",
    "Machine learning test using the following techniques on iris dataset:\n",
    "* Descriptive statistics\n",
    "* Linear support vector machine (SVM)\n",
    "* Evaluation of model"
   ]
  },
  {
   "cell_type": "code",
   "execution_count": 98,
   "metadata": {
    "collapsed": true
   },
   "outputs": [],
   "source": [
    "# Import packages\n",
    "from sklearn import datasets, svm, metrics\n",
    "from sklearn.decomposition import PCA\n",
    "import numpy as np\n",
    "import pandas as pd\n",
    "import matplotlib as mpl"
   ]
  },
  {
   "cell_type": "markdown",
   "metadata": {},
   "source": [
    "## Import and sample dataset"
   ]
  },
  {
   "cell_type": "code",
   "execution_count": 99,
   "metadata": {
    "scrolled": true
   },
   "outputs": [
    {
     "name": "stdout",
     "output_type": "stream",
     "text": [
      "                      0  1\n",
      "0  [5.1, 3.5, 1.4, 0.2]  0\n",
      "1  [4.9, 3.0, 1.4, 0.2]  0\n",
      "2  [4.7, 3.2, 1.3, 0.2]  0\n",
      "3  [4.6, 3.1, 1.5, 0.2]  0\n",
      "4  [5.0, 3.6, 1.4, 0.2]  0\n"
     ]
    }
   ],
   "source": [
    "iris = datasets.load_iris()\n",
    "n_samples = len(iris.data)\n",
    "data_and_classes = list(zip(iris.data, iris.target))\n",
    "data_pd = pd.DataFrame(data_and_classes)\n",
    "\n",
    "print(data_pd.head(5))"
   ]
  },
  {
   "cell_type": "markdown",
   "metadata": {},
   "source": [
    "## Explore data using descriptive statistics"
   ]
  },
  {
   "cell_type": "code",
   "execution_count": 106,
   "metadata": {
    "scrolled": true
   },
   "outputs": [
    {
     "data": {
      "text/html": [
       "<div>\n",
       "<style>\n",
       "    .dataframe thead tr:only-child th {\n",
       "        text-align: right;\n",
       "    }\n",
       "\n",
       "    .dataframe thead th {\n",
       "        text-align: left;\n",
       "    }\n",
       "\n",
       "    .dataframe tbody tr th {\n",
       "        vertical-align: top;\n",
       "    }\n",
       "</style>\n",
       "<table border=\"1\" class=\"dataframe\">\n",
       "  <thead>\n",
       "    <tr style=\"text-align: right;\">\n",
       "      <th></th>\n",
       "      <th>1</th>\n",
       "      <th>2</th>\n",
       "      <th>3</th>\n",
       "      <th>4</th>\n",
       "      <th>5</th>\n",
       "    </tr>\n",
       "  </thead>\n",
       "  <tbody>\n",
       "    <tr>\n",
       "      <th>count</th>\n",
       "      <td>150.000000</td>\n",
       "      <td>150.000000</td>\n",
       "      <td>150.000000</td>\n",
       "      <td>150.000000</td>\n",
       "      <td>150.000000</td>\n",
       "    </tr>\n",
       "    <tr>\n",
       "      <th>mean</th>\n",
       "      <td>5.843333</td>\n",
       "      <td>3.054000</td>\n",
       "      <td>3.758667</td>\n",
       "      <td>1.198667</td>\n",
       "      <td>1.000000</td>\n",
       "    </tr>\n",
       "    <tr>\n",
       "      <th>std</th>\n",
       "      <td>0.828066</td>\n",
       "      <td>0.433594</td>\n",
       "      <td>1.764420</td>\n",
       "      <td>0.763161</td>\n",
       "      <td>0.819232</td>\n",
       "    </tr>\n",
       "    <tr>\n",
       "      <th>min</th>\n",
       "      <td>4.300000</td>\n",
       "      <td>2.000000</td>\n",
       "      <td>1.000000</td>\n",
       "      <td>0.100000</td>\n",
       "      <td>0.000000</td>\n",
       "    </tr>\n",
       "    <tr>\n",
       "      <th>25%</th>\n",
       "      <td>5.100000</td>\n",
       "      <td>2.800000</td>\n",
       "      <td>1.600000</td>\n",
       "      <td>0.300000</td>\n",
       "      <td>0.000000</td>\n",
       "    </tr>\n",
       "    <tr>\n",
       "      <th>50%</th>\n",
       "      <td>5.800000</td>\n",
       "      <td>3.000000</td>\n",
       "      <td>4.350000</td>\n",
       "      <td>1.300000</td>\n",
       "      <td>1.000000</td>\n",
       "    </tr>\n",
       "    <tr>\n",
       "      <th>75%</th>\n",
       "      <td>6.400000</td>\n",
       "      <td>3.300000</td>\n",
       "      <td>5.100000</td>\n",
       "      <td>1.800000</td>\n",
       "      <td>2.000000</td>\n",
       "    </tr>\n",
       "    <tr>\n",
       "      <th>max</th>\n",
       "      <td>7.900000</td>\n",
       "      <td>4.400000</td>\n",
       "      <td>6.900000</td>\n",
       "      <td>2.500000</td>\n",
       "      <td>2.000000</td>\n",
       "    </tr>\n",
       "  </tbody>\n",
       "</table>\n",
       "</div>"
      ],
      "text/plain": [
       "                1           2           3           4           5\n",
       "count  150.000000  150.000000  150.000000  150.000000  150.000000\n",
       "mean     5.843333    3.054000    3.758667    1.198667    1.000000\n",
       "std      0.828066    0.433594    1.764420    0.763161    0.819232\n",
       "min      4.300000    2.000000    1.000000    0.100000    0.000000\n",
       "25%      5.100000    2.800000    1.600000    0.300000    0.000000\n",
       "50%      5.800000    3.000000    4.350000    1.300000    1.000000\n",
       "75%      6.400000    3.300000    5.100000    1.800000    2.000000\n",
       "max      7.900000    4.400000    6.900000    2.500000    2.000000"
      ]
     },
     "execution_count": 106,
     "metadata": {},
     "output_type": "execute_result"
    }
   ],
   "source": [
    "data_pd.describe()"
   ]
  },
  {
   "cell_type": "markdown",
   "metadata": {},
   "source": [
    "## Shuffle dataset\n",
    "Since iris data is ordered by species, shuffling rows will help split training vs test data."
   ]
  },
  {
   "cell_type": "code",
   "execution_count": 101,
   "metadata": {},
   "outputs": [
    {
     "name": "stdout",
     "output_type": "stream",
     "text": [
      "       1    2    3    4  5\n",
      "87   6.3  2.3  4.4  1.3  1\n",
      "111  6.4  2.7  5.3  1.9  2\n",
      "10   5.4  3.7  1.5  0.2  0\n",
      "91   6.1  3.0  4.6  1.4  1\n",
      "49   5.0  3.3  1.4  0.2  0\n"
     ]
    }
   ],
   "source": [
    "np.random.seed(10)\n",
    "data_pd = data_pd.sample(frac=1)\n",
    "data_pd = pd.concat([data_pd[0].apply(pd.Series), data_pd[1]], axis=1)\n",
    "data_pd.columns = [1,2,3,4,5]\n",
    "\n",
    "print(data_pd.head(5))"
   ]
  },
  {
   "cell_type": "markdown",
   "metadata": {},
   "source": [
    "## Define training data and targets\n",
    "Split data into two groups: 50% model training - 50% test data. Best practice would typically involve a split of 70% training - 10% validation - 20% test data."
   ]
  },
  {
   "cell_type": "code",
   "execution_count": 102,
   "metadata": {},
   "outputs": [
    {
     "name": "stdout",
     "output_type": "stream",
     "text": [
      "[[ 6.3  2.3  4.4  1.3]\n",
      " [ 6.4  2.7  5.3  1.9]\n",
      " [ 5.4  3.7  1.5  0.2]\n",
      " [ 6.1  3.   4.6  1.4]\n",
      " [ 5.   3.3  1.4  0.2]\n",
      " [ 5.   2.   3.5  1. ]\n",
      " [ 6.3  2.5  4.9  1.5]\n",
      " [ 5.8  2.7  4.1  1. ]\n",
      " [ 5.1  3.4  1.5  0.2]\n",
      " [ 5.7  2.8  4.5  1.3]]\n",
      "[1 2 0 1 0 1 1 1 0 1]\n"
     ]
    }
   ],
   "source": [
    "training = data_pd[:][:n_samples//2]\n",
    "training_data = training[[1,2,3,4]].values\n",
    "training_target = training[5].values\n",
    "\n",
    "print(training_data[0:10])\n",
    "print(training_target[0:10])"
   ]
  },
  {
   "cell_type": "markdown",
   "metadata": {},
   "source": [
    "## Support vector machine classification"
   ]
  },
  {
   "cell_type": "markdown",
   "metadata": {},
   "source": [
    "Use an unsupervised linear SVM to predict the species of unlabelled data."
   ]
  },
  {
   "cell_type": "code",
   "execution_count": 103,
   "metadata": {},
   "outputs": [],
   "source": [
    "# Linear support vector machine classifier\n",
    "clf = svm.LinearSVC()\n",
    "\n",
    "# Train model to fit training_data to training_target\n",
    "clf.fit(training_data, training_target)\n",
    "\n",
    "# Predict iris.targets and define expected vs predicted classifications\n",
    "expected = data_pd[5][n_samples//2:].values\n",
    "predicted = clf.predict(data_pd[[1,2,3,4]][n_samples//2:])"
   ]
  },
  {
   "cell_type": "code",
   "execution_count": 104,
   "metadata": {},
   "outputs": [
    {
     "name": "stdout",
     "output_type": "stream",
     "text": [
      "[[27  0  0]\n",
      " [ 0 23  0]\n",
      " [ 0  3 22]]\n"
     ]
    }
   ],
   "source": [
    "# Generate confusion matrix and classification report via metrics\n",
    "print(metrics.confusion_matrix(expected,predicted))"
   ]
  },
  {
   "attachments": {},
   "cell_type": "markdown",
   "metadata": {},
   "source": [
    "Accuracy score: Determines the accuracy of classification by comparing two arrays for an exact match.\n",
    "\n",
    "Classification report: Precision (P) reflects true positive events, while Recall (R) represents true negative events.\n",
    "F1-score is defined as the harmonic mean between P and R.\n",
    "\n",
    "\n",
    "\n",
    "![image](http://scikit-learn.org/stable/_images/math/4427313bbf584ad5dc95320f3fe1f8356b3c5f9f.png)\n",
    "![image](http://scikit-learn.org/stable/_images/math/3bcc92cd7cbd26a3d6c6aa0b407cb9d7c89c6254.png)\n",
    "![image](http://scikit-learn.org/stable/_images/math/6d03e9528e504c0801b231b90bdb480e01269ea1.png)"
   ]
  },
  {
   "cell_type": "code",
   "execution_count": 105,
   "metadata": {},
   "outputs": [
    {
     "name": "stdout",
     "output_type": "stream",
     "text": [
      "Accuracy score: 0.96\n",
      "             precision    recall  f1-score   support\n",
      "\n",
      "          0       1.00      1.00      1.00        27\n",
      "          1       0.88      1.00      0.94        23\n",
      "          2       1.00      0.88      0.94        25\n",
      "\n",
      "avg / total       0.96      0.96      0.96        75\n",
      "\n"
     ]
    }
   ],
   "source": [
    "print(\"Accuracy score:\", metrics.accuracy_score(expected, predicted))\n",
    "print(metrics.classification_report(expected, predicted))"
   ]
  }
 ],
 "metadata": {
  "kernelspec": {
   "display_name": "Python 3",
   "language": "python",
   "name": "python3"
  },
  "language_info": {
   "codemirror_mode": {
    "name": "ipython",
    "version": 3
   },
   "file_extension": ".py",
   "mimetype": "text/x-python",
   "name": "python",
   "nbconvert_exporter": "python",
   "pygments_lexer": "ipython3",
   "version": "3.6.3"
  }
 },
 "nbformat": 4,
 "nbformat_minor": 2
}
